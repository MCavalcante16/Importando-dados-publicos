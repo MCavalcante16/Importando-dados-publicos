{
 "metadata": {
  "language_info": {
   "codemirror_mode": {
    "name": "ipython",
    "version": 3
   },
   "file_extension": ".py",
   "mimetype": "text/x-python",
   "name": "python",
   "nbconvert_exporter": "python",
   "pygments_lexer": "ipython3",
   "version": "3.7.6-final"
  },
  "orig_nbformat": 2,
  "kernelspec": {
   "name": "python3",
   "display_name": "Python 3",
   "language": "python"
  }
 },
 "nbformat": 4,
 "nbformat_minor": 2,
 "cells": [
  {
   "source": [
    "# Prepara ambiente spark"
   ],
   "cell_type": "markdown",
   "metadata": {}
  },
  {
   "cell_type": "code",
   "execution_count": 2,
   "metadata": {},
   "outputs": [
    {
     "output_type": "stream",
     "name": "stdout",
     "text": [
      "Requirement already satisfied: pyspark==2.4.5 in c:\\programdata\\anaconda3\\lib\\site-packages (2.4.5)\n",
      "Requirement already satisfied: py4j==0.10.7 in c:\\programdata\\anaconda3\\lib\\site-packages (from pyspark==2.4.5) (0.10.7)\n"
     ]
    }
   ],
   "source": [
    "!pip install pyspark==2.4.5"
   ]
  },
  {
   "cell_type": "code",
   "execution_count": 3,
   "metadata": {},
   "outputs": [],
   "source": [
    "try:\n",
    "    from pyspark import SparkContext, SparkConf\n",
    "    from pyspark.sql import SparkSession\n",
    "except ImportError as e:\n",
    "    printmd('<<<<<!!!!! Please restart your kernel after installing Apache Spark !!!!!>>>>>')"
   ]
  },
  {
   "cell_type": "code",
   "execution_count": 4,
   "metadata": {},
   "outputs": [],
   "source": [
    "sc = SparkContext.getOrCreate(SparkConf().setMaster(\"local[*]\"))\n",
    "\n",
    "spark = SparkSession \\\n",
    "    .builder \\\n",
    "    .getOrCreate()"
   ]
  },
  {
   "source": [
    "# Obtem dados"
   ],
   "cell_type": "markdown",
   "metadata": {}
  },
  {
   "source": [
    "## PER/DCOMP Tabelas"
   ],
   "cell_type": "markdown",
   "metadata": {}
  },
  {
   "cell_type": "code",
   "execution_count": 5,
   "metadata": {},
   "outputs": [
    {
     "output_type": "execute_result",
     "data": {
      "text/plain": [
       "('perdcomp_tabelas.mdb', <http.client.HTTPMessage at 0x2184e41ea08>)"
      ]
     },
     "metadata": {},
     "execution_count": 5
    }
   ],
   "source": [
    "import urllib.request\n",
    "url = 'https://receita.economia.gov.br/orientacao/tributaria/restituicao-ressarcimento-reembolso-e-compensacao/perdcomp/perdcomp_tabelas.mdb/@@download/file/perdcomp_tabelas.mdb'\n",
    "filename = 'perdcomp_tabelas.mdb'\n",
    "urllib.request.urlretrieve(url, filename)"
   ]
  },
  {
   "source": [
    "## CPNJ"
   ],
   "cell_type": "markdown",
   "metadata": {}
  },
  {
   "source": [
    "### Obtem html"
   ],
   "cell_type": "markdown",
   "metadata": {}
  },
  {
   "cell_type": "code",
   "execution_count": 33,
   "metadata": {},
   "outputs": [
    {
     "output_type": "execute_result",
     "data": {
      "text/plain": [
       "('CNPJ.html', <http.client.HTTPMessage at 0x20619d8f608>)"
      ]
     },
     "metadata": {},
     "execution_count": 33
    }
   ],
   "source": [
    "import urllib.request\n",
    "import os\n",
    "url = 'http://200.152.38.155/CNPJ'\n",
    "filename = 'CNPJ.html'\n",
    "urllib.request.urlretrieve(url, filename)"
   ]
  },
  {
   "source": [
    "### Converte para string (formato aceito pelo beautifulSoup pra obter os hrefs)"
   ],
   "cell_type": "markdown",
   "metadata": {}
  },
  {
   "cell_type": "code",
   "execution_count": 34,
   "metadata": {},
   "outputs": [],
   "source": [
    "import codecs\n",
    "f=codecs.open(\"CNPJ.html\", 'r')\n",
    "html_string = f.read()\n",
    "f.close()"
   ]
  },
  {
   "source": [
    "### Deleta o html"
   ],
   "cell_type": "markdown",
   "metadata": {}
  },
  {
   "cell_type": "code",
   "execution_count": 36,
   "metadata": {},
   "outputs": [
    {
     "output_type": "error",
     "ename": "PermissionError",
     "evalue": "[WinError 32] O arquivo já está sendo usado por outro processo: 'CNPJ.html'",
     "traceback": [
      "\u001b[1;31m---------------------------------------------------------------------------\u001b[0m",
      "\u001b[1;31mPermissionError\u001b[0m                           Traceback (most recent call last)",
      "\u001b[1;32m<ipython-input-36-60f15f9213ce>\u001b[0m in \u001b[0;36m<module>\u001b[1;34m\u001b[0m\n\u001b[0;32m      1\u001b[0m \u001b[1;32mimport\u001b[0m \u001b[0mos\u001b[0m\u001b[1;33m\u001b[0m\u001b[1;33m\u001b[0m\u001b[0m\n\u001b[1;32m----> 2\u001b[1;33m \u001b[0mos\u001b[0m\u001b[1;33m.\u001b[0m\u001b[0mremove\u001b[0m\u001b[1;33m(\u001b[0m\u001b[1;34m'CNPJ.html'\u001b[0m\u001b[1;33m)\u001b[0m\u001b[1;33m\u001b[0m\u001b[1;33m\u001b[0m\u001b[0m\n\u001b[0m",
      "\u001b[1;31mPermissionError\u001b[0m: [WinError 32] O arquivo já está sendo usado por outro processo: 'CNPJ.html'"
     ]
    }
   ],
   "source": [
    "import os\n",
    "os.remove('CNPJ.html')"
   ]
  },
  {
   "source": [
    "### Obtem os hrefs"
   ],
   "cell_type": "markdown",
   "metadata": {}
  },
  {
   "cell_type": "code",
   "execution_count": 37,
   "metadata": {},
   "outputs": [],
   "source": [
    "from bs4 import BeautifulSoup\n",
    "soup = BeautifulSoup(html, 'html.parser')\n",
    "\n",
    "hrefs = []\n",
    "common_substring = 'DADOS_ABERTOS_CNPJ_'\n",
    "for a in soup.find_all('a', href=True):\n",
    "    this = a['href']\n",
    "    if (common_substring in this):\n",
    "        hrefs.append(this)"
   ]
  },
  {
   "source": [
    "### Baixa os zips"
   ],
   "cell_type": "markdown",
   "metadata": {}
  },
  {
   "cell_type": "code",
   "execution_count": 39,
   "metadata": {},
   "outputs": [],
   "source": [
    "for href in hrefs:\n",
    "    url = 'http://200.152.38.155/CNPJ/' + href\n",
    "    filename = href\n",
    "    urllib.request.urlretrieve(url, filename)"
   ]
  }
 ]
}