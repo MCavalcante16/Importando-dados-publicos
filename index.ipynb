{
 "metadata": {
  "language_info": {
   "codemirror_mode": {
    "name": "ipython",
    "version": 3
   },
   "file_extension": ".py",
   "mimetype": "text/x-python",
   "name": "python",
   "nbconvert_exporter": "python",
   "pygments_lexer": "ipython3",
   "version": "3.7.6-final"
  },
  "orig_nbformat": 2,
  "kernelspec": {
   "name": "python3",
   "display_name": "Python 3",
   "language": "python"
  }
 },
 "nbformat": 4,
 "nbformat_minor": 2,
 "cells": [
  {
   "source": [
    "## Imports"
   ],
   "cell_type": "markdown",
   "metadata": {}
  },
  {
   "cell_type": "code",
   "execution_count": 11,
   "metadata": {},
   "outputs": [
    {
     "output_type": "stream",
     "name": "stdout",
     "text": [
      "Requirement already satisfied: bs4 in c:\\programdata\\anaconda3\\lib\\site-packages (0.0.1)\nRequirement already satisfied: beautifulsoup4 in c:\\programdata\\anaconda3\\lib\\site-packages (from bs4) (4.8.2)\nRequirement already satisfied: soupsieve>=1.2 in c:\\programdata\\anaconda3\\lib\\site-packages (from beautifulsoup4->bs4) (2.0)\n"
     ]
    }
   ],
   "source": [
    "!pip install bs4"
   ]
  },
  {
   "cell_type": "code",
   "execution_count": 6,
   "metadata": {},
   "outputs": [],
   "source": [
    "import os\n",
    "import urllib.request\n",
    "import codecs\n",
    "from bs4 import BeautifulSoup"
   ]
  },
  {
   "source": [
    "## Perdcomp"
   ],
   "cell_type": "markdown",
   "metadata": {}
  },
  {
   "cell_type": "code",
   "execution_count": 13,
   "metadata": {},
   "outputs": [
    {
     "output_type": "execute_result",
     "data": {
      "text/plain": [
       "('perdcomp_tabelas.mdb', <http.client.HTTPMessage at 0x1da2fa61748>)"
      ]
     },
     "metadata": {},
     "execution_count": 13
    }
   ],
   "source": [
    "url = 'https://receita.economia.gov.br/orientacao/tributaria/restituicao-ressarcimento-reembolso-e-compensacao/perdcomp/perdcomp_tabelas.mdb/@@download/file/perdcomp_tabelas.mdb'\n",
    "filename = 'perdcomp_tabelas.mdb'\n",
    "urllib.request.urlretrieve(url, filename)"
   ]
  },
  {
   "source": [
    "## CPNJ"
   ],
   "cell_type": "markdown",
   "metadata": {}
  },
  {
   "source": [
    "### Obtem html"
   ],
   "cell_type": "markdown",
   "metadata": {}
  },
  {
   "cell_type": "code",
   "execution_count": 14,
   "metadata": {},
   "outputs": [
    {
     "output_type": "execute_result",
     "data": {
      "text/plain": [
       "('CNPJ.html', <http.client.HTTPMessage at 0x1da2fa56548>)"
      ]
     },
     "metadata": {},
     "execution_count": 14
    }
   ],
   "source": [
    "url = 'http://200.152.38.155/CNPJ'\n",
    "filename = 'CNPJ.html'\n",
    "urllib.request.urlretrieve(url, filename)"
   ]
  },
  {
   "source": [
    "### Converte para string (formato aceito pelo beautifulSoup pra obter os hrefs)"
   ],
   "cell_type": "markdown",
   "metadata": {}
  },
  {
   "cell_type": "code",
   "execution_count": 15,
   "metadata": {},
   "outputs": [],
   "source": [
    "f=codecs.open(\"CNPJ.html\", 'r')\n",
    "html_string = f.read()\n",
    "f.close()"
   ]
  },
  {
   "source": [
    "### Deleta o html"
   ],
   "cell_type": "markdown",
   "metadata": {}
  },
  {
   "cell_type": "code",
   "execution_count": 16,
   "metadata": {},
   "outputs": [],
   "source": [
    "os.remove('CNPJ.html')"
   ]
  },
  {
   "source": [
    "### Obtem os hrefs"
   ],
   "cell_type": "markdown",
   "metadata": {}
  },
  {
   "cell_type": "code",
   "execution_count": 18,
   "metadata": {},
   "outputs": [],
   "source": [
    "soup = BeautifulSoup(html_string, 'html.parser')\n",
    "\n",
    "hrefs = []\n",
    "common_substring = 'DADOS_ABERTOS_CNPJ_'\n",
    "for a in soup.find_all('a', href=True):\n",
    "    this = a['href']\n",
    "    if (common_substring in this):\n",
    "        hrefs.append(this)"
   ]
  },
  {
   "source": [
    "### Baixa os zips"
   ],
   "cell_type": "markdown",
   "metadata": {}
  },
  {
   "cell_type": "code",
   "execution_count": 19,
   "metadata": {},
   "outputs": [
    {
     "output_type": "error",
     "ename": "KeyboardInterrupt",
     "evalue": "",
     "traceback": [
      "\u001b[1;31m---------------------------------------------------------------------------\u001b[0m",
      "\u001b[1;31mKeyboardInterrupt\u001b[0m                         Traceback (most recent call last)",
      "\u001b[1;32m<ipython-input-19-97e2fd7c0100>\u001b[0m in \u001b[0;36m<module>\u001b[1;34m\u001b[0m\n\u001b[0;32m      2\u001b[0m     \u001b[0murl\u001b[0m \u001b[1;33m=\u001b[0m \u001b[1;34m'http://200.152.38.155/CNPJ/'\u001b[0m \u001b[1;33m+\u001b[0m \u001b[0mhref\u001b[0m\u001b[1;33m\u001b[0m\u001b[1;33m\u001b[0m\u001b[0m\n\u001b[0;32m      3\u001b[0m     \u001b[0mfilename\u001b[0m \u001b[1;33m=\u001b[0m \u001b[1;34m'./CNPJ/'\u001b[0m \u001b[1;33m+\u001b[0m \u001b[0mhref\u001b[0m\u001b[1;33m\u001b[0m\u001b[1;33m\u001b[0m\u001b[0m\n\u001b[1;32m----> 4\u001b[1;33m     \u001b[0murllib\u001b[0m\u001b[1;33m.\u001b[0m\u001b[0mrequest\u001b[0m\u001b[1;33m.\u001b[0m\u001b[0murlretrieve\u001b[0m\u001b[1;33m(\u001b[0m\u001b[0murl\u001b[0m\u001b[1;33m,\u001b[0m \u001b[0mfilename\u001b[0m\u001b[1;33m)\u001b[0m\u001b[1;33m\u001b[0m\u001b[1;33m\u001b[0m\u001b[0m\n\u001b[0m",
      "\u001b[1;32mC:\\ProgramData\\Anaconda3\\lib\\urllib\\request.py\u001b[0m in \u001b[0;36murlretrieve\u001b[1;34m(url, filename, reporthook, data)\u001b[0m\n\u001b[0;32m    274\u001b[0m \u001b[1;33m\u001b[0m\u001b[0m\n\u001b[0;32m    275\u001b[0m             \u001b[1;32mwhile\u001b[0m \u001b[1;32mTrue\u001b[0m\u001b[1;33m:\u001b[0m\u001b[1;33m\u001b[0m\u001b[1;33m\u001b[0m\u001b[0m\n\u001b[1;32m--> 276\u001b[1;33m                 \u001b[0mblock\u001b[0m \u001b[1;33m=\u001b[0m \u001b[0mfp\u001b[0m\u001b[1;33m.\u001b[0m\u001b[0mread\u001b[0m\u001b[1;33m(\u001b[0m\u001b[0mbs\u001b[0m\u001b[1;33m)\u001b[0m\u001b[1;33m\u001b[0m\u001b[1;33m\u001b[0m\u001b[0m\n\u001b[0m\u001b[0;32m    277\u001b[0m                 \u001b[1;32mif\u001b[0m \u001b[1;32mnot\u001b[0m \u001b[0mblock\u001b[0m\u001b[1;33m:\u001b[0m\u001b[1;33m\u001b[0m\u001b[1;33m\u001b[0m\u001b[0m\n\u001b[0;32m    278\u001b[0m                     \u001b[1;32mbreak\u001b[0m\u001b[1;33m\u001b[0m\u001b[1;33m\u001b[0m\u001b[0m\n",
      "\u001b[1;32mC:\\ProgramData\\Anaconda3\\lib\\http\\client.py\u001b[0m in \u001b[0;36mread\u001b[1;34m(self, amt)\u001b[0m\n\u001b[0;32m    455\u001b[0m             \u001b[1;31m# Amount is given, implement using readinto\u001b[0m\u001b[1;33m\u001b[0m\u001b[1;33m\u001b[0m\u001b[1;33m\u001b[0m\u001b[0m\n\u001b[0;32m    456\u001b[0m             \u001b[0mb\u001b[0m \u001b[1;33m=\u001b[0m \u001b[0mbytearray\u001b[0m\u001b[1;33m(\u001b[0m\u001b[0mamt\u001b[0m\u001b[1;33m)\u001b[0m\u001b[1;33m\u001b[0m\u001b[1;33m\u001b[0m\u001b[0m\n\u001b[1;32m--> 457\u001b[1;33m             \u001b[0mn\u001b[0m \u001b[1;33m=\u001b[0m \u001b[0mself\u001b[0m\u001b[1;33m.\u001b[0m\u001b[0mreadinto\u001b[0m\u001b[1;33m(\u001b[0m\u001b[0mb\u001b[0m\u001b[1;33m)\u001b[0m\u001b[1;33m\u001b[0m\u001b[1;33m\u001b[0m\u001b[0m\n\u001b[0m\u001b[0;32m    458\u001b[0m             \u001b[1;32mreturn\u001b[0m \u001b[0mmemoryview\u001b[0m\u001b[1;33m(\u001b[0m\u001b[0mb\u001b[0m\u001b[1;33m)\u001b[0m\u001b[1;33m[\u001b[0m\u001b[1;33m:\u001b[0m\u001b[0mn\u001b[0m\u001b[1;33m]\u001b[0m\u001b[1;33m.\u001b[0m\u001b[0mtobytes\u001b[0m\u001b[1;33m(\u001b[0m\u001b[1;33m)\u001b[0m\u001b[1;33m\u001b[0m\u001b[1;33m\u001b[0m\u001b[0m\n\u001b[0;32m    459\u001b[0m         \u001b[1;32melse\u001b[0m\u001b[1;33m:\u001b[0m\u001b[1;33m\u001b[0m\u001b[1;33m\u001b[0m\u001b[0m\n",
      "\u001b[1;32mC:\\ProgramData\\Anaconda3\\lib\\http\\client.py\u001b[0m in \u001b[0;36mreadinto\u001b[1;34m(self, b)\u001b[0m\n\u001b[0;32m    499\u001b[0m         \u001b[1;31m# connection, and the user is reading more bytes than will be provided\u001b[0m\u001b[1;33m\u001b[0m\u001b[1;33m\u001b[0m\u001b[1;33m\u001b[0m\u001b[0m\n\u001b[0;32m    500\u001b[0m         \u001b[1;31m# (for example, reading in 1k chunks)\u001b[0m\u001b[1;33m\u001b[0m\u001b[1;33m\u001b[0m\u001b[1;33m\u001b[0m\u001b[0m\n\u001b[1;32m--> 501\u001b[1;33m         \u001b[0mn\u001b[0m \u001b[1;33m=\u001b[0m \u001b[0mself\u001b[0m\u001b[1;33m.\u001b[0m\u001b[0mfp\u001b[0m\u001b[1;33m.\u001b[0m\u001b[0mreadinto\u001b[0m\u001b[1;33m(\u001b[0m\u001b[0mb\u001b[0m\u001b[1;33m)\u001b[0m\u001b[1;33m\u001b[0m\u001b[1;33m\u001b[0m\u001b[0m\n\u001b[0m\u001b[0;32m    502\u001b[0m         \u001b[1;32mif\u001b[0m \u001b[1;32mnot\u001b[0m \u001b[0mn\u001b[0m \u001b[1;32mand\u001b[0m \u001b[0mb\u001b[0m\u001b[1;33m:\u001b[0m\u001b[1;33m\u001b[0m\u001b[1;33m\u001b[0m\u001b[0m\n\u001b[0;32m    503\u001b[0m             \u001b[1;31m# Ideally, we would raise IncompleteRead if the content-length\u001b[0m\u001b[1;33m\u001b[0m\u001b[1;33m\u001b[0m\u001b[1;33m\u001b[0m\u001b[0m\n",
      "\u001b[1;32mC:\\ProgramData\\Anaconda3\\lib\\socket.py\u001b[0m in \u001b[0;36mreadinto\u001b[1;34m(self, b)\u001b[0m\n\u001b[0;32m    587\u001b[0m         \u001b[1;32mwhile\u001b[0m \u001b[1;32mTrue\u001b[0m\u001b[1;33m:\u001b[0m\u001b[1;33m\u001b[0m\u001b[1;33m\u001b[0m\u001b[0m\n\u001b[0;32m    588\u001b[0m             \u001b[1;32mtry\u001b[0m\u001b[1;33m:\u001b[0m\u001b[1;33m\u001b[0m\u001b[1;33m\u001b[0m\u001b[0m\n\u001b[1;32m--> 589\u001b[1;33m                 \u001b[1;32mreturn\u001b[0m \u001b[0mself\u001b[0m\u001b[1;33m.\u001b[0m\u001b[0m_sock\u001b[0m\u001b[1;33m.\u001b[0m\u001b[0mrecv_into\u001b[0m\u001b[1;33m(\u001b[0m\u001b[0mb\u001b[0m\u001b[1;33m)\u001b[0m\u001b[1;33m\u001b[0m\u001b[1;33m\u001b[0m\u001b[0m\n\u001b[0m\u001b[0;32m    590\u001b[0m             \u001b[1;32mexcept\u001b[0m \u001b[0mtimeout\u001b[0m\u001b[1;33m:\u001b[0m\u001b[1;33m\u001b[0m\u001b[1;33m\u001b[0m\u001b[0m\n\u001b[0;32m    591\u001b[0m                 \u001b[0mself\u001b[0m\u001b[1;33m.\u001b[0m\u001b[0m_timeout_occurred\u001b[0m \u001b[1;33m=\u001b[0m \u001b[1;32mTrue\u001b[0m\u001b[1;33m\u001b[0m\u001b[1;33m\u001b[0m\u001b[0m\n",
      "\u001b[1;31mKeyboardInterrupt\u001b[0m: "
     ]
    }
   ],
   "source": [
    "for href in hrefs:\n",
    "    url = 'http://200.152.38.155/CNPJ/' + href\n",
    "    filename = './CNPJ/' + href\n",
    "    urllib.request.urlretrieve(url, filename)"
   ]
  },
  {
   "source": [
    "## Tabelas TIPI"
   ],
   "cell_type": "markdown",
   "metadata": {}
  },
  {
   "cell_type": "code",
   "execution_count": 18,
   "metadata": {},
   "outputs": [],
   "source": [
    "import requests\n",
    "url=requests.get('https://portalunico.siscomex.gov.br/classif/api/sumario')\n",
    "sumario = url.json()"
   ]
  },
  {
   "cell_type": "code",
   "execution_count": 44,
   "metadata": {},
   "outputs": [],
   "source": [
    "from time import sleep\n",
    "sec = 1"
   ]
  },
  {
   "cell_type": "code",
   "execution_count": 45,
   "metadata": {
    "tags": [
     "outputPrepend"
    ]
   },
   "outputs": [
    {
     "output_type": "stream",
     "name": "stdout",
     "text": [
      "v.br/classif/api/nomenclatura/900211\n",
      "https://portalunico.siscomex.gov.br/classif/api/nomenclatura/900220\n",
      "https://portalunico.siscomex.gov.br/classif/api/nomenclatura/9003\n",
      "https://portalunico.siscomex.gov.br/classif/api/nomenclatura/90031\n",
      "https://portalunico.siscomex.gov.br/classif/api/nomenclatura/900319\n",
      "https://portalunico.siscomex.gov.br/classif/api/nomenclatura/900390\n",
      "https://portalunico.siscomex.gov.br/classif/api/nomenclatura/9004\n",
      "https://portalunico.siscomex.gov.br/classif/api/nomenclatura/900490\n",
      "https://portalunico.siscomex.gov.br/classif/api/nomenclatura/9005\n",
      "https://portalunico.siscomex.gov.br/classif/api/nomenclatura/900590\n",
      "https://portalunico.siscomex.gov.br/classif/api/nomenclatura/9006\n",
      "https://portalunico.siscomex.gov.br/classif/api/nomenclatura/90065\n",
      "https://portalunico.siscomex.gov.br/classif/api/nomenclatura/900653\n",
      "https://portalunico.siscomex.gov.br/classif/api/nomenclatura/900659\n",
      "https://portalunico.siscomex.gov.br/classif/api/nomenclatura/9006595\n",
      "https://portalunico.siscomex.gov.br/classif/api/nomenclatura/90066\n",
      "https://portalunico.siscomex.gov.br/classif/api/nomenclatura/90069\n",
      "https://portalunico.siscomex.gov.br/classif/api/nomenclatura/900691\n",
      "https://portalunico.siscomex.gov.br/classif/api/nomenclatura/9007\n",
      "https://portalunico.siscomex.gov.br/classif/api/nomenclatura/900720\n",
      "https://portalunico.siscomex.gov.br/classif/api/nomenclatura/90079\n",
      "https://portalunico.siscomex.gov.br/classif/api/nomenclatura/9008\n",
      "https://portalunico.siscomex.gov.br/classif/api/nomenclatura/9010\n",
      "https://portalunico.siscomex.gov.br/classif/api/nomenclatura/901010\n",
      "https://portalunico.siscomex.gov.br/classif/api/nomenclatura/901050\n",
      "https://portalunico.siscomex.gov.br/classif/api/nomenclatura/901090\n",
      "https://portalunico.siscomex.gov.br/classif/api/nomenclatura/9011\n",
      "https://portalunico.siscomex.gov.br/classif/api/nomenclatura/901120\n",
      "https://portalunico.siscomex.gov.br/classif/api/nomenclatura/901180\n",
      "https://portalunico.siscomex.gov.br/classif/api/nomenclatura/901190\n",
      "https://portalunico.siscomex.gov.br/classif/api/nomenclatura/9012\n",
      "https://portalunico.siscomex.gov.br/classif/api/nomenclatura/901210\n",
      "https://portalunico.siscomex.gov.br/classif/api/nomenclatura/901290\n",
      "https://portalunico.siscomex.gov.br/classif/api/nomenclatura/9013\n",
      "https://portalunico.siscomex.gov.br/classif/api/nomenclatura/901310\n",
      "https://portalunico.siscomex.gov.br/classif/api/nomenclatura/901380\n",
      "https://portalunico.siscomex.gov.br/classif/api/nomenclatura/9014\n",
      "https://portalunico.siscomex.gov.br/classif/api/nomenclatura/901420\n",
      "https://portalunico.siscomex.gov.br/classif/api/nomenclatura/901480\n",
      "https://portalunico.siscomex.gov.br/classif/api/nomenclatura/9015\n",
      "https://portalunico.siscomex.gov.br/classif/api/nomenclatura/901520\n",
      "https://portalunico.siscomex.gov.br/classif/api/nomenclatura/901580\n",
      "https://portalunico.siscomex.gov.br/classif/api/nomenclatura/901590\n",
      "https://portalunico.siscomex.gov.br/classif/api/nomenclatura/901600\n",
      "https://portalunico.siscomex.gov.br/classif/api/nomenclatura/9017\n",
      "https://portalunico.siscomex.gov.br/classif/api/nomenclatura/901710\n",
      "https://portalunico.siscomex.gov.br/classif/api/nomenclatura/901730\n",
      "https://portalunico.siscomex.gov.br/classif/api/nomenclatura/901780\n",
      "https://portalunico.siscomex.gov.br/classif/api/nomenclatura/901790\n",
      "https://portalunico.siscomex.gov.br/classif/api/nomenclatura/9018\n",
      "https://portalunico.siscomex.gov.br/classif/api/nomenclatura/90181\n",
      "https://portalunico.siscomex.gov.br/classif/api/nomenclatura/901812\n",
      "https://portalunico.siscomex.gov.br/classif/api/nomenclatura/901814\n",
      "https://portalunico.siscomex.gov.br/classif/api/nomenclatura/901819\n",
      "https://portalunico.siscomex.gov.br/classif/api/nomenclatura/901820\n",
      "https://portalunico.siscomex.gov.br/classif/api/nomenclatura/90183\n",
      "https://portalunico.siscomex.gov.br/classif/api/nomenclatura/901831\n",
      "https://portalunico.siscomex.gov.br/classif/api/nomenclatura/9018311\n",
      "https://portalunico.siscomex.gov.br/classif/api/nomenclatura/901832\n",
      "https://portalunico.siscomex.gov.br/classif/api/nomenclatura/9018321\n",
      "https://portalunico.siscomex.gov.br/classif/api/nomenclatura/901839\n",
      "https://portalunico.siscomex.gov.br/classif/api/nomenclatura/9018392\n",
      "https://portalunico.siscomex.gov.br/classif/api/nomenclatura/9018399\n",
      "https://portalunico.siscomex.gov.br/classif/api/nomenclatura/90184\n",
      "https://portalunico.siscomex.gov.br/classif/api/nomenclatura/901849\n",
      "https://portalunico.siscomex.gov.br/classif/api/nomenclatura/9018491\n",
      "https://portalunico.siscomex.gov.br/classif/api/nomenclatura/9018499\n",
      "https://portalunico.siscomex.gov.br/classif/api/nomenclatura/901850\n",
      "https://portalunico.siscomex.gov.br/classif/api/nomenclatura/901890\n",
      "https://portalunico.siscomex.gov.br/classif/api/nomenclatura/9018902\n",
      "https://portalunico.siscomex.gov.br/classif/api/nomenclatura/9018903\n",
      "https://portalunico.siscomex.gov.br/classif/api/nomenclatura/9018909\n",
      "https://portalunico.siscomex.gov.br/classif/api/nomenclatura/9019\n",
      "https://portalunico.siscomex.gov.br/classif/api/nomenclatura/901920\n",
      "https://portalunico.siscomex.gov.br/classif/api/nomenclatura/902000\n",
      "https://portalunico.siscomex.gov.br/classif/api/nomenclatura/9021\n",
      "https://portalunico.siscomex.gov.br/classif/api/nomenclatura/902110\n",
      "https://portalunico.siscomex.gov.br/classif/api/nomenclatura/9021109\n",
      "https://portalunico.siscomex.gov.br/classif/api/nomenclatura/90212\n",
      "https://portalunico.siscomex.gov.br/classif/api/nomenclatura/902121\n",
      "https://portalunico.siscomex.gov.br/classif/api/nomenclatura/90213\n",
      "https://portalunico.siscomex.gov.br/classif/api/nomenclatura/902131\n",
      "https://portalunico.siscomex.gov.br/classif/api/nomenclatura/902139\n",
      "https://portalunico.siscomex.gov.br/classif/api/nomenclatura/9021391\n",
      "https://portalunico.siscomex.gov.br/classif/api/nomenclatura/9021399\n",
      "https://portalunico.siscomex.gov.br/classif/api/nomenclatura/902190\n",
      "https://portalunico.siscomex.gov.br/classif/api/nomenclatura/9021901\n",
      "https://portalunico.siscomex.gov.br/classif/api/nomenclatura/9021909\n",
      "https://portalunico.siscomex.gov.br/classif/api/nomenclatura/9022\n",
      "https://portalunico.siscomex.gov.br/classif/api/nomenclatura/90221\n",
      "https://portalunico.siscomex.gov.br/classif/api/nomenclatura/902213\n",
      "https://portalunico.siscomex.gov.br/classif/api/nomenclatura/9022131\n",
      "https://portalunico.siscomex.gov.br/classif/api/nomenclatura/902214\n",
      "https://portalunico.siscomex.gov.br/classif/api/nomenclatura/9022141\n",
      "https://portalunico.siscomex.gov.br/classif/api/nomenclatura/902219\n",
      "https://portalunico.siscomex.gov.br/classif/api/nomenclatura/9022199\n",
      "https://portalunico.siscomex.gov.br/classif/api/nomenclatura/90222\n",
      "https://portalunico.siscomex.gov.br/classif/api/nomenclatura/902221\n",
      "https://portalunico.siscomex.gov.br/classif/api/nomenclatura/902229\n",
      "https://portalunico.siscomex.gov.br/classif/api/nomenclatura/902290\n",
      "https://portalunico.siscomex.gov.br/classif/api/nomenclatura/9022901\n",
      "https://portalunico.siscomex.gov.br/classif/api/nomenclatura/9024\n",
      "https://portalunico.siscomex.gov.br/classif/api/nomenclatura/902410\n",
      "https://portalunico.siscomex.gov.br/classif/api/nomenclatura/902480\n",
      "https://portalunico.siscomex.gov.br/classif/api/nomenclatura/9024801\n",
      "https://portalunico.siscomex.gov.br/classif/api/nomenclatura/9024802\n",
      "https://portalunico.siscomex.gov.br/classif/api/nomenclatura/9025\n",
      "https://portalunico.siscomex.gov.br/classif/api/nomenclatura/90251\n",
      "https://portalunico.siscomex.gov.br/classif/api/nomenclatura/902511\n",
      "https://portalunico.siscomex.gov.br/classif/api/nomenclatura/902519\n",
      "https://portalunico.siscomex.gov.br/classif/api/nomenclatura/902590\n",
      "https://portalunico.siscomex.gov.br/classif/api/nomenclatura/9026\n",
      "https://portalunico.siscomex.gov.br/classif/api/nomenclatura/902610\n",
      "https://portalunico.siscomex.gov.br/classif/api/nomenclatura/9026101\n",
      "https://portalunico.siscomex.gov.br/classif/api/nomenclatura/9026102\n",
      "https://portalunico.siscomex.gov.br/classif/api/nomenclatura/902620\n",
      "https://portalunico.siscomex.gov.br/classif/api/nomenclatura/902690\n",
      "https://portalunico.siscomex.gov.br/classif/api/nomenclatura/9027\n",
      "https://portalunico.siscomex.gov.br/classif/api/nomenclatura/902720\n",
      "https://portalunico.siscomex.gov.br/classif/api/nomenclatura/9027201\n",
      "https://portalunico.siscomex.gov.br/classif/api/nomenclatura/9027202\n",
      "https://portalunico.siscomex.gov.br/classif/api/nomenclatura/902730\n",
      "https://portalunico.siscomex.gov.br/classif/api/nomenclatura/9027301\n",
      "https://portalunico.siscomex.gov.br/classif/api/nomenclatura/902750\n",
      "https://portalunico.siscomex.gov.br/classif/api/nomenclatura/902780\n",
      "https://portalunico.siscomex.gov.br/classif/api/nomenclatura/9027801\n",
      "https://portalunico.siscomex.gov.br/classif/api/nomenclatura/9027809\n",
      "https://portalunico.siscomex.gov.br/classif/api/nomenclatura/902790\n",
      "https://portalunico.siscomex.gov.br/classif/api/nomenclatura/9027909\n",
      "https://portalunico.siscomex.gov.br/classif/api/nomenclatura/9028\n",
      "https://portalunico.siscomex.gov.br/classif/api/nomenclatura/902810\n",
      "https://portalunico.siscomex.gov.br/classif/api/nomenclatura/9028101\n",
      "https://portalunico.siscomex.gov.br/classif/api/nomenclatura/902820\n",
      "https://portalunico.siscomex.gov.br/classif/api/nomenclatura/902830\n",
      "https://portalunico.siscomex.gov.br/classif/api/nomenclatura/9028301\n",
      "https://portalunico.siscomex.gov.br/classif/api/nomenclatura/9028302\n",
      "https://portalunico.siscomex.gov.br/classif/api/nomenclatura/9028303\n",
      "https://portalunico.siscomex.gov.br/classif/api/nomenclatura/902890\n",
      "https://portalunico.siscomex.gov.br/classif/api/nomenclatura/9029\n",
      "https://portalunico.siscomex.gov.br/classif/api/nomenclatura/902910\n",
      "https://portalunico.siscomex.gov.br/classif/api/nomenclatura/902920\n",
      "https://portalunico.siscomex.gov.br/classif/api/nomenclatura/902990\n",
      "https://portalunico.siscomex.gov.br/classif/api/nomenclatura/9030\n",
      "https://portalunico.siscomex.gov.br/classif/api/nomenclatura/903010\n",
      "https://portalunico.siscomex.gov.br/classif/api/nomenclatura/903020\n",
      "https://portalunico.siscomex.gov.br/classif/api/nomenclatura/9030202\n",
      "https://portalunico.siscomex.gov.br/classif/api/nomenclatura/90303\n",
      "https://portalunico.siscomex.gov.br/classif/api/nomenclatura/903033\n",
      "https://portalunico.siscomex.gov.br/classif/api/nomenclatura/9030331\n",
      "https://portalunico.siscomex.gov.br/classif/api/nomenclatura/9030332\n",
      "https://portalunico.siscomex.gov.br/classif/api/nomenclatura/903039\n",
      "https://portalunico.siscomex.gov.br/classif/api/nomenclatura/903040\n",
      "https://portalunico.siscomex.gov.br/classif/api/nomenclatura/90308\n",
      "https://portalunico.siscomex.gov.br/classif/api/nomenclatura/903082\n",
      "https://portalunico.siscomex.gov.br/classif/api/nomenclatura/903084\n",
      "https://portalunico.siscomex.gov.br/classif/api/nomenclatura/903089\n",
      "https://portalunico.siscomex.gov.br/classif/api/nomenclatura/903090\n",
      "https://portalunico.siscomex.gov.br/classif/api/nomenclatura/9031\n",
      "https://portalunico.siscomex.gov.br/classif/api/nomenclatura/903120\n",
      "https://portalunico.siscomex.gov.br/classif/api/nomenclatura/90314\n",
      "https://portalunico.siscomex.gov.br/classif/api/nomenclatura/903149\n",
      "https://portalunico.siscomex.gov.br/classif/api/nomenclatura/903180\n",
      "https://portalunico.siscomex.gov.br/classif/api/nomenclatura/9031801\n",
      "https://portalunico.siscomex.gov.br/classif/api/nomenclatura/9031809\n",
      "https://portalunico.siscomex.gov.br/classif/api/nomenclatura/903190\n",
      "https://portalunico.siscomex.gov.br/classif/api/nomenclatura/9032\n",
      "https://portalunico.siscomex.gov.br/classif/api/nomenclatura/903210\n",
      "https://portalunico.siscomex.gov.br/classif/api/nomenclatura/90328\n",
      "https://portalunico.siscomex.gov.br/classif/api/nomenclatura/903289\n",
      "https://portalunico.siscomex.gov.br/classif/api/nomenclatura/9032891\n",
      "https://portalunico.siscomex.gov.br/classif/api/nomenclatura/9032892\n",
      "https://portalunico.siscomex.gov.br/classif/api/nomenclatura/9032898\n",
      "https://portalunico.siscomex.gov.br/classif/api/nomenclatura/903290\n",
      "https://portalunico.siscomex.gov.br/classif/api/nomenclatura/9032909\n",
      "https://portalunico.siscomex.gov.br/classif/api/nomenclatura/91\n",
      "https://portalunico.siscomex.gov.br/classif/api/nomenclatura/9101\n",
      "https://portalunico.siscomex.gov.br/classif/api/nomenclatura/91011\n",
      "https://portalunico.siscomex.gov.br/classif/api/nomenclatura/91012\n",
      "https://portalunico.siscomex.gov.br/classif/api/nomenclatura/91019\n",
      "https://portalunico.siscomex.gov.br/classif/api/nomenclatura/9102\n",
      "https://portalunico.siscomex.gov.br/classif/api/nomenclatura/91021\n",
      "https://portalunico.siscomex.gov.br/classif/api/nomenclatura/910211\n",
      "https://portalunico.siscomex.gov.br/classif/api/nomenclatura/910212\n",
      "https://portalunico.siscomex.gov.br/classif/api/nomenclatura/91022\n",
      "https://portalunico.siscomex.gov.br/classif/api/nomenclatura/91029\n",
      "https://portalunico.siscomex.gov.br/classif/api/nomenclatura/9103\n",
      "https://portalunico.siscomex.gov.br/classif/api/nomenclatura/9105\n",
      "https://portalunico.siscomex.gov.br/classif/api/nomenclatura/91051\n",
      "https://portalunico.siscomex.gov.br/classif/api/nomenclatura/91052\n",
      "https://portalunico.siscomex.gov.br/classif/api/nomenclatura/91059\n",
      "https://portalunico.siscomex.gov.br/classif/api/nomenclatura/9106\n",
      "https://portalunico.siscomex.gov.br/classif/api/nomenclatura/910700\n",
      "https://portalunico.siscomex.gov.br/classif/api/nomenclatura/9108\n",
      "https://portalunico.siscomex.gov.br/classif/api/nomenclatura/91081\n",
      "https://portalunico.siscomex.gov.br/classif/api/nomenclatura/910811\n",
      "https://portalunico.siscomex.gov.br/classif/api/nomenclatura/9109\n",
      "https://portalunico.siscomex.gov.br/classif/api/nomenclatura/9110\n",
      "https://portalunico.siscomex.gov.br/classif/api/nomenclatura/91101\n",
      "https://portalunico.siscomex.gov.br/classif/api/nomenclatura/911011\n",
      "https://portalunico.siscomex.gov.br/classif/api/nomenclatura/9111\n",
      "https://portalunico.siscomex.gov.br/classif/api/nomenclatura/911120\n",
      "https://portalunico.siscomex.gov.br/classif/api/nomenclatura/911190\n",
      "https://portalunico.siscomex.gov.br/classif/api/nomenclatura/9112\n",
      "https://portalunico.siscomex.gov.br/classif/api/nomenclatura/9113\n",
      "https://portalunico.siscomex.gov.br/classif/api/nomenclatura/9114\n",
      "https://portalunico.siscomex.gov.br/classif/api/nomenclatura/911490\n",
      "https://portalunico.siscomex.gov.br/classif/api/nomenclatura/92\n",
      "https://portalunico.siscomex.gov.br/classif/api/nomenclatura/9201\n",
      "https://portalunico.siscomex.gov.br/classif/api/nomenclatura/9202\n",
      "https://portalunico.siscomex.gov.br/classif/api/nomenclatura/9205\n",
      "https://portalunico.siscomex.gov.br/classif/api/nomenclatura/9207\n",
      "https://portalunico.siscomex.gov.br/classif/api/nomenclatura/920710\n",
      "https://portalunico.siscomex.gov.br/classif/api/nomenclatura/920790\n",
      "https://portalunico.siscomex.gov.br/classif/api/nomenclatura/9208\n",
      "https://portalunico.siscomex.gov.br/classif/api/nomenclatura/9209\n",
      "https://portalunico.siscomex.gov.br/classif/api/nomenclatura/92099\n",
      "https://portalunico.siscomex.gov.br/classif/api/nomenclatura/93\n",
      "https://portalunico.siscomex.gov.br/classif/api/nomenclatura/9301\n",
      "https://portalunico.siscomex.gov.br/classif/api/nomenclatura/9303\n",
      "https://portalunico.siscomex.gov.br/classif/api/nomenclatura/930390\n",
      "https://portalunico.siscomex.gov.br/classif/api/nomenclatura/930400\n",
      "https://portalunico.siscomex.gov.br/classif/api/nomenclatura/9305\n",
      "https://portalunico.siscomex.gov.br/classif/api/nomenclatura/93059\n",
      "https://portalunico.siscomex.gov.br/classif/api/nomenclatura/9306\n",
      "https://portalunico.siscomex.gov.br/classif/api/nomenclatura/93062\n",
      "https://portalunico.siscomex.gov.br/classif/api/nomenclatura/930621\n",
      "https://portalunico.siscomex.gov.br/classif/api/nomenclatura/930690\n",
      "https://portalunico.siscomex.gov.br/classif/api/nomenclatura/94\n",
      "https://portalunico.siscomex.gov.br/classif/api/nomenclatura/9401\n",
      "https://portalunico.siscomex.gov.br/classif/api/nomenclatura/940110\n",
      "https://portalunico.siscomex.gov.br/classif/api/nomenclatura/940130\n",
      "https://portalunico.siscomex.gov.br/classif/api/nomenclatura/940140\n",
      "https://portalunico.siscomex.gov.br/classif/api/nomenclatura/94015\n",
      "https://portalunico.siscomex.gov.br/classif/api/nomenclatura/94016\n",
      "https://portalunico.siscomex.gov.br/classif/api/nomenclatura/94017\n",
      "https://portalunico.siscomex.gov.br/classif/api/nomenclatura/940190\n",
      "https://portalunico.siscomex.gov.br/classif/api/nomenclatura/9402\n",
      "https://portalunico.siscomex.gov.br/classif/api/nomenclatura/940290\n",
      "https://portalunico.siscomex.gov.br/classif/api/nomenclatura/9403\n",
      "https://portalunico.siscomex.gov.br/classif/api/nomenclatura/94038\n",
      "https://portalunico.siscomex.gov.br/classif/api/nomenclatura/940390\n",
      "https://portalunico.siscomex.gov.br/classif/api/nomenclatura/9404\n",
      "https://portalunico.siscomex.gov.br/classif/api/nomenclatura/94042\n",
      "https://portalunico.siscomex.gov.br/classif/api/nomenclatura/9405\n",
      "https://portalunico.siscomex.gov.br/classif/api/nomenclatura/940510\n",
      "https://portalunico.siscomex.gov.br/classif/api/nomenclatura/9405109\n",
      "https://portalunico.siscomex.gov.br/classif/api/nomenclatura/940540\n",
      "https://portalunico.siscomex.gov.br/classif/api/nomenclatura/94059\n",
      "https://portalunico.siscomex.gov.br/classif/api/nomenclatura/9406\n",
      "https://portalunico.siscomex.gov.br/classif/api/nomenclatura/940610\n",
      "https://portalunico.siscomex.gov.br/classif/api/nomenclatura/940690\n",
      "https://portalunico.siscomex.gov.br/classif/api/nomenclatura/95\n",
      "https://portalunico.siscomex.gov.br/classif/api/nomenclatura/950300\n",
      "https://portalunico.siscomex.gov.br/classif/api/nomenclatura/9503002\n",
      "https://portalunico.siscomex.gov.br/classif/api/nomenclatura/9503003\n",
      "https://portalunico.siscomex.gov.br/classif/api/nomenclatura/9503009\n",
      "https://portalunico.siscomex.gov.br/classif/api/nomenclatura/9504\n",
      "https://portalunico.siscomex.gov.br/classif/api/nomenclatura/950490\n",
      "https://portalunico.siscomex.gov.br/classif/api/nomenclatura/9505\n",
      "https://portalunico.siscomex.gov.br/classif/api/nomenclatura/9506\n",
      "https://portalunico.siscomex.gov.br/classif/api/nomenclatura/95061\n",
      "https://portalunico.siscomex.gov.br/classif/api/nomenclatura/95062\n",
      "https://portalunico.siscomex.gov.br/classif/api/nomenclatura/95063\n",
      "https://portalunico.siscomex.gov.br/classif/api/nomenclatura/95065\n",
      "https://portalunico.siscomex.gov.br/classif/api/nomenclatura/95066\n",
      "https://portalunico.siscomex.gov.br/classif/api/nomenclatura/95069\n",
      "https://portalunico.siscomex.gov.br/classif/api/nomenclatura/9507\n",
      "https://portalunico.siscomex.gov.br/classif/api/nomenclatura/9508\n",
      "https://portalunico.siscomex.gov.br/classif/api/nomenclatura/950890\n",
      "https://portalunico.siscomex.gov.br/classif/api/nomenclatura/9508901\n",
      "https://portalunico.siscomex.gov.br/classif/api/nomenclatura/9508902\n",
      "https://portalunico.siscomex.gov.br/classif/api/nomenclatura/9508904\n",
      "https://portalunico.siscomex.gov.br/classif/api/nomenclatura/96\n",
      "https://portalunico.siscomex.gov.br/classif/api/nomenclatura/9601\n",
      "https://portalunico.siscomex.gov.br/classif/api/nomenclatura/960200\n",
      "https://portalunico.siscomex.gov.br/classif/api/nomenclatura/9603\n",
      "https://portalunico.siscomex.gov.br/classif/api/nomenclatura/96032\n",
      "https://portalunico.siscomex.gov.br/classif/api/nomenclatura/960340\n",
      "https://portalunico.siscomex.gov.br/classif/api/nomenclatura/9606\n",
      "https://portalunico.siscomex.gov.br/classif/api/nomenclatura/96062\n",
      "https://portalunico.siscomex.gov.br/classif/api/nomenclatura/9607\n",
      "https://portalunico.siscomex.gov.br/classif/api/nomenclatura/96071\n",
      "https://portalunico.siscomex.gov.br/classif/api/nomenclatura/9608\n",
      "https://portalunico.siscomex.gov.br/classif/api/nomenclatura/96089\n",
      "https://portalunico.siscomex.gov.br/classif/api/nomenclatura/960899\n",
      "https://portalunico.siscomex.gov.br/classif/api/nomenclatura/9608998\n",
      "https://portalunico.siscomex.gov.br/classif/api/nomenclatura/9609\n",
      "https://portalunico.siscomex.gov.br/classif/api/nomenclatura/9612\n",
      "https://portalunico.siscomex.gov.br/classif/api/nomenclatura/961210\n",
      "https://portalunico.siscomex.gov.br/classif/api/nomenclatura/9612101\n",
      "https://portalunico.siscomex.gov.br/classif/api/nomenclatura/9613\n",
      "https://portalunico.siscomex.gov.br/classif/api/nomenclatura/9615\n",
      "https://portalunico.siscomex.gov.br/classif/api/nomenclatura/96151\n",
      "https://portalunico.siscomex.gov.br/classif/api/nomenclatura/9616\n",
      "https://portalunico.siscomex.gov.br/classif/api/nomenclatura/961700\n",
      "https://portalunico.siscomex.gov.br/classif/api/nomenclatura/97\n",
      "https://portalunico.siscomex.gov.br/classif/api/nomenclatura/9701\n"
     ]
    }
   ],
   "source": [
    "#Secao\n",
    "for secao in sumario:\n",
    "    all_url = 'https://portalunico.siscomex.gov.br/classif/api/nomenclatura/'\n",
    "\n",
    "    #Capitulo\n",
    "    for capitulo in secao['capitulos']:\n",
    "        print(all_url + capitulo['codigo'])\n",
    "        sleep(sec)\n",
    "        capitulo_url=requests.get(all_url + capitulo['codigo'])\n",
    "        capitulo = capitulo_url.json()\n",
    "\n",
    "        #Posicao\n",
    "        for posicao in capitulo['filhos']:\n",
    "            if (posicao['possuiFilhos']):\n",
    "                print(all_url + posicao['codigo'])\n",
    "                sleep(sec)\n",
    "                posicao_url = requests.get(all_url + posicao['codigo'])\n",
    "                posicao = posicao_url.json()\n",
    "\n",
    "                #Subposicao\n",
    "                for subposicao in posicao['filhos']:\n",
    "                    if (subposicao['possuiFilhos']):\n",
    "                        print(all_url + subposicao['codigo'])\n",
    "                        sleep(sec)\n",
    "                        subposicao_url = requests.get(all_url + subposicao['codigo'])\n",
    "                        subposicao = subposicao_url.json()\n",
    "\n",
    "                        #Item\n",
    "                        for item in subposicao['filhos']:\n",
    "                            if (item['possuiFilhos']):\n",
    "                                print(all_url + item['codigo'])\n",
    "                                sleep(sec)\n",
    "                                item_url = requests.get(all_url + item['codigo'])\n",
    "                                item = item_url.json()\n",
    "\n",
    "                                #Subitem\n",
    "                                for subitem in item['filhos']:\n",
    "                                    if (subitem['possuiFilhos']):\n",
    "                                        print(all_url + subitem['codigo'])\n",
    "                                        sleep(sec)\n",
    "                                        subitem_url = requests.get(all_url + subitem['codigo'])\n",
    "                                        subitem = subitem_url.json()"
   ]
  },
  {
   "cell_type": "code",
   "execution_count": 53,
   "metadata": {},
   "outputs": [],
   "source": [
    "import json\n",
    "with open('tipi_table.txt', 'w') as tipi_table:\n",
    "    json.dump(sumario, tipi_table)"
   ]
  }
 ]
}